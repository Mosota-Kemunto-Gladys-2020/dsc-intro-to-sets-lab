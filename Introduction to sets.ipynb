{
 "cells": [
  {
   "cell_type": "markdown",
   "metadata": {},
   "source": [
    "# Introduction to Sets - Lab\n",
    "\n",
    "## Introduction\n",
    "\n",
    "Probability theory is all around. A common example is in the game of poker or related card games, where players try to calculate the probability of winning a round given the cards they have in their hands. Also, in a business context, probabilities play an important role. Operating in a volatile economy, companies need to take uncertainty into account and this is exactly where probability theory plays a role.\n",
    "\n",
    "As mentioned in the lesson before, a good understanding of probability starts with understanding of sets and set operations. That's exactly what you'll learn in this lab!\n",
    "\n",
    "## Objectives\n",
    "\n",
    "You will be able to:\n",
    "\n",
    "* Use Python to perform set operations\n",
    "* Use Python to demonstrate the inclusion/exclusion principle\n",
    "\n",
    "\n",
    "## Exploring Set Operations Using a Venn Diagram\n",
    "\n",
    "Let's start with a pretty conceptual example. Let's consider the following sets:\n",
    "\n",
    "   - $\\Omega$ = positive integers between [1, 12]\n",
    "   - $A$= even numbers between [1, 10]\n",
    "   - $B = \\{3,8,11,12\\}$\n",
    "   - $C = \\{2,3,6,8,9,11\\}$\n",
    "    \n",
    "\n",
    "#### a. Illustrate all the sets in a Venn Diagram like the one below. The rectangular shape represents the universal set.\n",
    "\n",
    "<img src=\"./images/venn_diagr.png\" width=\"600\">\n"
   ]
  },
  {
   "cell_type": "markdown",
   "metadata": {},
   "source": [
    "#### b. Using your Venn Diagram, list the elements in each of the following sets:\n",
    "\n",
    "Do this work by hand (writing in the values of each set), then you will check your answers using Python code later!\n",
    "\n",
    "For example, if the question was just asking for the values of $B$, you would replace `None` with `{3, 8, 11, 12}` typed out.\n",
    "\n",
    "$ A \\cap B$"
   ]
  },
  {
   "cell_type": "code",
   "execution_count": 26,
   "metadata": {},
   "outputs": [
    {
     "name": "stdout",
     "output_type": "stream",
     "text": [
      "{8, 12}\n"
     ]
    }
   ],
   "source": [
    "A = {2, 4, 6, 8, 10, 12}\n",
    "B = {3, 8, 11, 12}\n",
    "\n",
    "ans1 = A.intersection(B)\n",
    "print(ans1)  # Output: {8, 12}"
   ]
  },
  {
   "cell_type": "markdown",
   "metadata": {},
   "source": [
    "$ A \\cup C$"
   ]
  },
  {
   "cell_type": "code",
   "execution_count": 27,
   "metadata": {},
   "outputs": [
    {
     "name": "stdout",
     "output_type": "stream",
     "text": [
      "{2, 3, 4, 6, 8, 9, 10, 11, 12}\n"
     ]
    }
   ],
   "source": [
    "A = {2, 4, 6, 8, 10, 12}\n",
    "C = {2, 3, 6, 8, 9, 11}\n",
    "\n",
    "ans2 = A.union(C)\n",
    "print(ans2)  # Output: {2, 3, 4, 6, 8, 9, 10, 11, 12}\n",
    "\n",
    "\n",
    "ans2 = None\n",
    "ans2"
   ]
  },
  {
   "cell_type": "markdown",
   "metadata": {},
   "source": [
    "$A^c$"
   ]
  },
  {
   "cell_type": "code",
   "execution_count": 28,
   "metadata": {},
   "outputs": [
    {
     "data": {
      "text/plain": [
       "{(2, 2),\n",
       " (2, 3),\n",
       " (2, 6),\n",
       " (2, 8),\n",
       " (2, 9),\n",
       " (2, 11),\n",
       " (4, 2),\n",
       " (4, 3),\n",
       " (4, 6),\n",
       " (4, 8),\n",
       " (4, 9),\n",
       " (4, 11),\n",
       " (6, 2),\n",
       " (6, 3),\n",
       " (6, 6),\n",
       " (6, 8),\n",
       " (6, 9),\n",
       " (6, 11),\n",
       " (8, 2),\n",
       " (8, 3),\n",
       " (8, 6),\n",
       " (8, 8),\n",
       " (8, 9),\n",
       " (8, 11),\n",
       " (10, 2),\n",
       " (10, 3),\n",
       " (10, 6),\n",
       " (10, 8),\n",
       " (10, 9),\n",
       " (10, 11),\n",
       " (12, 2),\n",
       " (12, 3),\n",
       " (12, 6),\n",
       " (12, 8),\n",
       " (12, 9),\n",
       " (12, 11)}"
      ]
     },
     "execution_count": 28,
     "metadata": {},
     "output_type": "execute_result"
    }
   ],
   "source": [
    "A = {2, 4, 6, 8, 10, 12}\n",
    "C = {2, 3, 6, 8, 9, 11}\n",
    "\n",
    "# Cartesian Product\n",
    "ans3 = {(a, c) for a in A for c in C}\n",
    "ans3\n"
   ]
  },
  {
   "cell_type": "markdown",
   "metadata": {},
   "source": [
    "The absolute complement of B"
   ]
  },
  {
   "cell_type": "code",
   "execution_count": 41,
   "metadata": {},
   "outputs": [
    {
     "data": {
      "text/plain": [
       "{1, 2, 4, 5, 6, 7, 9, 10}"
      ]
     },
     "execution_count": 41,
     "metadata": {},
     "output_type": "execute_result"
    }
   ],
   "source": [
    "U = {1, 2, 3, 4, 5, 6, 7, 8, 9, 10, 11, 12}\n",
    "B = {3, 8, 11, 12}\n",
    "\n",
    "# Absolute complement of B\n",
    "ans4 = K - B\n",
    "ans4  # Output: {1, 2, 4, 5, 6, 7, 9, 10}\n",
    "\n",
    "\n"
   ]
  },
  {
   "cell_type": "markdown",
   "metadata": {},
   "source": [
    "$(A \\cup B)^c$"
   ]
  },
  {
   "cell_type": "code",
   "execution_count": 30,
   "metadata": {},
   "outputs": [
    {
     "name": "stdout",
     "output_type": "stream",
     "text": [
      "{(4, 3), (4, 9), (4, 6), (8, 3), (8, 9), (10, 6), (11, 2), (8, 6), (2, 2), (10, 3), (10, 9), (11, 8), (2, 11), (11, 11), (2, 8), (6, 2), (6, 11), (6, 8), (4, 2), (12, 3), (12, 9), (12, 6), (3, 3), (3, 9), (4, 8), (3, 6), (8, 2), (4, 11), (8, 11), (10, 2), (8, 8), (10, 11), (10, 8), (12, 2), (3, 2), (12, 11), (12, 8), (3, 11), (3, 8), (11, 3), (11, 9), (11, 6), (2, 3), (2, 9), (2, 6), (6, 6), (6, 3), (6, 9)}\n"
     ]
    }
   ],
   "source": [
    "\n",
    "A = {2, 4, 6, 8, 10, 12}\n",
    "B = {3, 8, 11, 12}\n",
    "C = {2, 3, 6, 8, 9, 11}\n",
    "\n",
    "# Union of A and B\n",
    "A_union_B = A.union(B)\n",
    "\n",
    "# Cartesian Product of (A union B) and C\n",
    "ans5 = {(x, y) for x in A_union_B for y in C}\n",
    "print(ans5)\n"
   ]
  },
  {
   "cell_type": "markdown",
   "metadata": {},
   "source": [
    "B∩C'"
   ]
  },
  {
   "cell_type": "code",
   "execution_count": 42,
   "metadata": {},
   "outputs": [
    {
     "name": "stdout",
     "output_type": "stream",
     "text": [
      "{12}\n"
     ]
    }
   ],
   "source": [
    "U = {1, 2, 3, 4, 5, 6, 7, 8, 9, 10, 11, 12}\n",
    "B = {3, 8, 11, 12}\n",
    "C = {2, 3, 6, 8, 9, 11}\n",
    "\n",
    "# Complement of C\n",
    "C_complement = K - C\n",
    "\n",
    "# Intersection of B and C_complement\n",
    "ans6 = B.intersection(C_complement)\n",
    "print(ans6)  # Output: {12}"
   ]
  },
  {
   "cell_type": "markdown",
   "metadata": {},
   "source": [
    "$A\\backslash B$"
   ]
  },
  {
   "cell_type": "code",
   "execution_count": 34,
   "metadata": {},
   "outputs": [
    {
     "name": "stdout",
     "output_type": "stream",
     "text": [
      "{2, 10, 4, 6}\n"
     ]
    }
   ],
   "source": [
    "A = {2, 4, 6, 8, 10, 12}\n",
    "B = {3, 8, 11, 12}\n",
    "\n",
    "# Set difference A \\ B\n",
    "ans7 = A - B\n",
    "print(ans7)  # Output: {2, 4, 6, 10}\n",
    "\n"
   ]
  },
  {
   "cell_type": "markdown",
   "metadata": {},
   "source": [
    "$C \\backslash (B \\backslash A)$ "
   ]
  },
  {
   "cell_type": "code",
   "execution_count": 36,
   "metadata": {},
   "outputs": [
    {
     "name": "stdout",
     "output_type": "stream",
     "text": [
      "{8, 9, 2, 6}\n"
     ]
    }
   ],
   "source": [
    "A = {2, 4, 6, 8, 10, 12}\n",
    "B = {3, 8, 11, 12}\n",
    "C = {2, 3, 6, 8, 9, 11}\n",
    "\n",
    "# Step 1: Calculate B \\ A\n",
    "B_minus_A = B - A\n",
    "\n",
    "# Step 2: Calculate C \\ (B \\ A)\n",
    "ans8 = C - B_minus_A\n",
    "print(ans8)  # Output: {2, 6, 8, 9}\n"
   ]
  },
  {
   "cell_type": "markdown",
   "metadata": {},
   "source": [
    "$(C \\cap A) \\cup (C \\backslash B)$"
   ]
  },
  {
   "cell_type": "code",
   "execution_count": 37,
   "metadata": {},
   "outputs": [
    {
     "name": "stdout",
     "output_type": "stream",
     "text": [
      "{2, 6, 8, 9}\n"
     ]
    }
   ],
   "source": [
    "A = {2, 4, 6, 8, 10, 12}\n",
    "B = {3, 8, 11, 12}\n",
    "C = {2, 3, 6, 8, 9, 11}\n",
    "\n",
    "# Step 1: Calculate C ∩ A\n",
    "C_intersection_A = C.intersection(A)\n",
    "\n",
    "# Step 2: Calculate C \\ B\n",
    "C_minus_B = C - B\n",
    "\n",
    "# Step 3: Union of the results from steps 1 and 2\n",
    "ans9 = C_intersection_A.union(C_minus_B)\n",
    "print(ans9)  # Output: {2, 6, 8, 9}\n",
    "\n"
   ]
  },
  {
   "cell_type": "markdown",
   "metadata": {},
   "source": [
    "\n",
    "        \n",
    "        \n",
    "#### c. For the remainder of this exercise, let's  create sets A, B and C and universal set U in Python and test out the results you came up with. Sets are easy to create in Python. For a guide to the syntax, follow some of the documentation [here](https://www.w3schools.com/python/python_sets.asp)"
   ]
  },
  {
   "cell_type": "code",
   "execution_count": 39,
   "metadata": {},
   "outputs": [
    {
     "data": {
      "text/plain": [
       "\"Type A: <class 'set'>, A: {2, 4, 6, 8, 10}\""
      ]
     },
     "execution_count": 39,
     "metadata": {},
     "output_type": "execute_result"
    }
   ],
   "source": [
    "# Create set A\n",
    "A = {2, 4, 6, 8, 10}\n",
    "f'Type A: {type(A)}, A: {A}' # \"Type A: <class 'set'>, A: {2, 4, 6, 8, 10}\""
   ]
  },
  {
   "cell_type": "code",
   "execution_count": 40,
   "metadata": {},
   "outputs": [
    {
     "data": {
      "text/plain": [
       "\"Type B: <class 'set'>, A: {8, 11, 3, 12}\""
      ]
     },
     "execution_count": 40,
     "metadata": {},
     "output_type": "execute_result"
    }
   ],
   "source": [
    "# Create set B\n",
    "B = {8, 11, 3, 12}\n",
    "\n",
    "f'Type B: {type(B)}, A: {B}' # \"Type B: <class 'set'>, B: {8, 11, 3, 12}\""
   ]
  },
  {
   "cell_type": "code",
   "execution_count": 43,
   "metadata": {},
   "outputs": [
    {
     "data": {
      "text/plain": [
       "\"Type C: <class 'set'>, A: {2, 3, 6, 8, 9, 11}\""
      ]
     },
     "execution_count": 43,
     "metadata": {},
     "output_type": "execute_result"
    }
   ],
   "source": [
    "# Create set C\n",
    "C =  {2, 3, 6, 8, 9, 11}\n",
    "\n",
    "f'Type C: {type(C)}, A: {C}' # \"Type C: <class 'set'>, C: {2, 3, 6, 8, 9, 11}\""
   ]
  },
  {
   "cell_type": "code",
   "execution_count": 44,
   "metadata": {},
   "outputs": [
    {
     "data": {
      "text/plain": [
       "\"Type U: <class 'set'>, A: {1, 2, 3, 4, 5, 6, 7, 8, 9, 10, 11, 12}\""
      ]
     },
     "execution_count": 44,
     "metadata": {},
     "output_type": "execute_result"
    }
   ],
   "source": [
    "# Create universal set U\n",
    "U = {1, 2, 3, 4, 5, 6, 7, 8, 9, 10, 11, 12}\n",
    "f'Type U: {type(U)}, A: {U}' # \"Type U: <class 'set'>, U: {1, 2, 3, 4, 5, 6, 7, 8, 9, 10, 11, 12}\""
   ]
  },
  {
   "cell_type": "markdown",
   "metadata": {},
   "source": [
    "Now, verify your answers in section 1 by using the correct methods in Python. For example, if the question was just asking for the values of $B$, you would replace `None` with `B`.\n",
    "\n",
    "To provide a little bit of help, you can find a table with common operations on sets below.\n",
    "\n",
    "| Method        |\tEquivalent |\tResult |\n",
    "| ------                    | ------       | ------    |\n",
    "| s.issubset(t)             |\ts <= t     | test whether every element in s is in t\n",
    "| s.issuperset(t)           |\ts >= t     | test whether every element in t is in s\n",
    "| s.union(t)                |\ts $\\mid$ t | new set with elements from both s and t\n",
    "| s.intersection(t)         |\ts & t      | new set with elements common to s and t\n",
    "| s.difference(t)           |\ts - t \t   | new set with elements in s but not in t\n",
    "| s.symmetric_difference(t) |\ts ^ t      | new set with elements in either s or t but not both\n",
    "\n",
    "Every cell should display `True` if your original answer matches the answer you calculated with Python. If it displays `False`, that means either your original answer or your Python code is incorrect."
   ]
  },
  {
   "cell_type": "markdown",
   "metadata": {},
   "source": [
    "#### 1. $ A \\cap B$"
   ]
  },
  {
   "cell_type": "code",
   "execution_count": 46,
   "metadata": {},
   "outputs": [
    {
     "data": {
      "text/plain": [
       "True"
      ]
     },
     "execution_count": 46,
     "metadata": {},
     "output_type": "execute_result"
    }
   ],
   "source": [
    "A_inters_B = {8, 12}\n",
    "A_inters_B == ans1"
   ]
  },
  {
   "cell_type": "markdown",
   "metadata": {},
   "source": [
    "#### 2. $ A \\cup C $"
   ]
  },
  {
   "cell_type": "code",
   "execution_count": 48,
   "metadata": {},
   "outputs": [
    {
     "data": {
      "text/plain": [
       "False"
      ]
     },
     "execution_count": 48,
     "metadata": {},
     "output_type": "execute_result"
    }
   ],
   "source": [
    "A_union_C = A_inters_B \n",
    "A_inters_B == ans1\n",
    "A_union_C == ans2"
   ]
  },
  {
   "cell_type": "markdown",
   "metadata": {},
   "source": [
    "#### 3.  $A^c$"
   ]
  },
  {
   "cell_type": "code",
   "execution_count": 51,
   "metadata": {},
   "outputs": [
    {
     "data": {
      "text/plain": [
       "True"
      ]
     },
     "execution_count": 51,
     "metadata": {},
     "output_type": "execute_result"
    }
   ],
   "source": [
    "A_comp = {(2, 2),\n",
    " (2, 3),\n",
    " (2, 6),\n",
    " (2, 8),\n",
    " (2, 9),\n",
    " (2, 11),\n",
    " (4, 2),\n",
    " (4, 3),\n",
    " (4, 6),\n",
    " (4, 8),\n",
    " (4, 9),\n",
    " (4, 11),\n",
    " (6, 2),\n",
    " (6, 3),\n",
    " (6, 6),\n",
    " (6, 8),\n",
    " (6, 9),\n",
    " (6, 11),\n",
    " (8, 2),\n",
    " (8, 3),\n",
    " (8, 6),\n",
    " (8, 8),\n",
    " (8, 9),\n",
    " (8, 11),\n",
    " (10, 2),\n",
    " (10, 3),\n",
    " (10, 6),\n",
    " (10, 8),\n",
    " (10, 9),\n",
    " (10, 11),\n",
    " (12, 2),\n",
    " (12, 3),\n",
    " (12, 6),\n",
    " (12, 8),\n",
    " (12, 9),\n",
    " (12, 11)}\n",
    "A_comp == ans3"
   ]
  },
  {
   "cell_type": "markdown",
   "metadata": {},
   "source": [
    "#### 4. The absolute complement of B"
   ]
  },
  {
   "cell_type": "code",
   "execution_count": 52,
   "metadata": {},
   "outputs": [
    {
     "data": {
      "text/plain": [
       "True"
      ]
     },
     "execution_count": 52,
     "metadata": {},
     "output_type": "execute_result"
    }
   ],
   "source": [
    "B_comp = {1, 2, 4, 5, 6, 7, 9, 10}\n",
    "B_comp == ans4"
   ]
  },
  {
   "cell_type": "markdown",
   "metadata": {},
   "source": [
    "#### 5.  $(A \\cup B)^c $"
   ]
  },
  {
   "cell_type": "code",
   "execution_count": 53,
   "metadata": {},
   "outputs": [
    {
     "data": {
      "text/plain": [
       "True"
      ]
     },
     "execution_count": 53,
     "metadata": {},
     "output_type": "execute_result"
    }
   ],
   "source": [
    "A_union_B_comp = {(4, 3), (4, 9), (4, 6), (8, 3), (8, 9), (10, 6), (11, 2), (8, 6), (2, 2), (10, 3), (10, 9), (11, 8), (2, 11), (11, 11), (2, 8), (6, 2), (6, 11), (6, 8), (4, 2), (12, 3), (12, 9), (12, 6), (3, 3), (3, 9), (4, 8), (3, 6), (8, 2), (4, 11), (8, 11), (10, 2), (8, 8), (10, 11), (10, 8), (12, 2), (3, 2), (12, 11), (12, 8), (3, 11), (3, 8), (11, 3), (11, 9), (11, 6), (2, 3), (2, 9), (2, 6), (6, 6), (6, 3), (6, 9)}\n",
    "\n",
    "A_union_B_comp == ans5"
   ]
  },
  {
   "cell_type": "markdown",
   "metadata": {},
   "source": [
    "#### 6. $B \\cap C' $"
   ]
  },
  {
   "cell_type": "code",
   "execution_count": 54,
   "metadata": {},
   "outputs": [
    {
     "data": {
      "text/plain": [
       "True"
      ]
     },
     "execution_count": 54,
     "metadata": {},
     "output_type": "execute_result"
    }
   ],
   "source": [
    "B_inters_C_comp = {12}\n",
    "\n",
    "B_inters_C_comp == ans6"
   ]
  },
  {
   "cell_type": "markdown",
   "metadata": {},
   "source": [
    "#### 7. $A\\backslash B$"
   ]
  },
  {
   "cell_type": "code",
   "execution_count": 55,
   "metadata": {},
   "outputs": [
    {
     "data": {
      "text/plain": [
       "True"
      ]
     },
     "execution_count": 55,
     "metadata": {},
     "output_type": "execute_result"
    }
   ],
   "source": [
    "compl_of_B = {2, 10, 4, 6}\n",
    "\n",
    "compl_of_B == ans7"
   ]
  },
  {
   "cell_type": "markdown",
   "metadata": {},
   "source": [
    "#### 8. $C \\backslash (B \\backslash A) $"
   ]
  },
  {
   "cell_type": "code",
   "execution_count": 56,
   "metadata": {},
   "outputs": [
    {
     "data": {
      "text/plain": [
       "True"
      ]
     },
     "execution_count": 56,
     "metadata": {},
     "output_type": "execute_result"
    }
   ],
   "source": [
    "C_compl_B_compl_A = {8, 9, 2, 6}\n",
    "\n",
    "C_compl_B_compl_A == ans8"
   ]
  },
  {
   "cell_type": "markdown",
   "metadata": {},
   "source": [
    "#### 9.  $(C \\cap A) \\cup (C \\backslash B)$"
   ]
  },
  {
   "cell_type": "code",
   "execution_count": 57,
   "metadata": {},
   "outputs": [
    {
     "data": {
      "text/plain": [
       "True"
      ]
     },
     "execution_count": 57,
     "metadata": {},
     "output_type": "execute_result"
    }
   ],
   "source": [
    "C_inters_A_union_C_min_B = {2, 6, 8, 9}\n",
    "\n",
    "C_inters_A_union_C_min_B == ans9"
   ]
  },
  {
   "cell_type": "markdown",
   "metadata": {},
   "source": [
    "## The Inclusion Exclusion Principle"
   ]
  },
  {
   "cell_type": "markdown",
   "metadata": {},
   "source": [
    "Use A, B and C from exercise one to verify the inclusion exclusion principle in Python. \n",
    "You can use the sets A, B and C as used in the previous exercise. \n",
    "\n",
    "Recall from the previous lesson that:\n",
    "\n",
    "$$\\mid A \\cup B\\cup C\\mid = \\mid A \\mid + \\mid B \\mid + \\mid C \\mid - \\mid A \\cap B \\mid  -\\mid A \\cap C \\mid - \\mid B \\cap C \\mid  + \\mid A \\cap B \\cap C \\mid $$\n",
    "\n",
    "Combining these main commands:\n",
    "\n",
    "| Method        |\tEquivalent |\tResult |\n",
    "| ------                    | ------       | ------    |\n",
    "| a.union(b)                |\tA $\\mid$ B | new set with elements from both a and b\n",
    "| a.intersection(b)         |\tA & B      | new set with elements common to a and b\n",
    "\n",
    "along with the `len(x)` function to get to the cardinality of a given x (\"|x|\").\n",
    "\n",
    "What you'll do is translate the left hand side of the equation for the inclusion principle in the object `left_hand_eq`, and the right hand side in the object `right_hand_eq` and see if the results are the same.\n"
   ]
  },
  {
   "cell_type": "code",
   "execution_count": 61,
   "metadata": {},
   "outputs": [
    {
     "name": "stdout",
     "output_type": "stream",
     "text": [
      "Left-hand side: |A ∪ B ∪ C| = 9\n"
     ]
    }
   ],
   "source": [
    "# Define sets A, B, and C\n",
    "A = {2, 4, 6, 8, 10, 12}\n",
    "B = {3, 8, 11, 12}\n",
    "C = {2, 3, 6, 8, 9, 11}\n",
    "\n",
    "# Calculate the left-hand side: |A ∪ B ∪ C|\n",
    "left_hand_eq = len(A.union(B).union(C))\n",
    "\n",
    "\n",
    "\n",
    "# Print the results\n",
    "print(f'Left-hand side: |A ∪ B ∪ C| = {left_hand_eq}')\n"
   ]
  },
  {
   "cell_type": "code",
   "execution_count": 63,
   "metadata": {},
   "outputs": [
    {
     "name": "stdout",
     "output_type": "stream",
     "text": [
      "Right-hand side: |A| + |B| + |C| - |A ∩ B| - |A ∩ C| - |B ∩ C| + |A ∩ B ∩ C| = 9\n",
      "9\n"
     ]
    }
   ],
   "source": [
    "# Calculate the right-hand side:\n",
    "right_hand_eq = len(A) + len(B) + len(C) - len(A.intersection(B)) - len(A.intersection(C)) - len(B.intersection(C)) + len(A.intersection(B).intersection(C))\n",
    "\n",
    "# Print the results\n",
    "\n",
    "print(f'Right-hand side: |A| + |B| + |C| - |A ∩ B| - |A ∩ C| - |B ∩ C| + |A ∩ B ∩ C| = {right_hand_eq}')\n",
    "\n",
    "\n",
    "\n",
    "print(right_hand_eq) # 9 elements in the set"
   ]
  },
  {
   "cell_type": "code",
   "execution_count": 65,
   "metadata": {},
   "outputs": [
    {
     "name": "stdout",
     "output_type": "stream",
     "text": [
      "True\n"
     ]
    }
   ],
   "source": [
    "# Verify if both sides are equal\n",
    "if left_hand_eq == right_hand_eq:\n",
    "    print(\"True\")\n",
    "else:\n",
    "    print(\"The inclusion-exclusion principle is not verified\")\n",
    "\n",
    "\n",
    "None # Use a comparison operator to compare `left_hand_eq` and `right_hand_eq`. Needs to say \"True\"."
   ]
  },
  {
   "cell_type": "markdown",
   "metadata": {},
   "source": [
    "## Set Operations in Python\n",
    "\n",
    "Mary is preparing for a road trip from her hometown, Boston, to Chicago. She has quite a few pets, yet luckily, so do her friends. They try to make sure that they take care of each other's pets while someone is away on a trip. A month ago, each respective person's pet collection was given by the following three sets:"
   ]
  },
  {
   "cell_type": "code",
   "execution_count": null,
   "metadata": {},
   "outputs": [],
   "source": [
    "Nina = set([\"Cat\",\"Dog\",\"Rabbit\",\"Donkey\",\"Parrot\", \"Goldfish\"])\n",
    "Mary = set([\"Dog\",\"Chinchilla\",\"Horse\", \"Chicken\"])\n",
    "Eve = set([\"Rabbit\", \"Turtle\", \"Goldfish\"])"
   ]
  },
  {
   "cell_type": "markdown",
   "metadata": {},
   "source": [
    "In this exercise, you'll be able to use the following operations:\n",
    "\n",
    "|Operation                          |\tEquivalent |\tResult|\n",
    "| ------                            | ------       | ------   |\n",
    "|s.update(t)                        | \t$s \\mid= t$ \t   |return set s with elements added from t|\n",
    "|s.intersection_update(t)           | \ts &= t     |\treturn set s keeping only elements also found in t|\n",
    "|s.difference_update(t)             |\ts -= t \t   |return set s after removing elements found in t|\n",
    "|s.symmetric_difference_update(t)   |\ts ^= t \t   |return set s with elements from s or t but not both|\n",
    "|s.add(x)                           |\t           |\tadd element x to set s|\n",
    "|s.remove(x)                        |\t           |\tremove x from set s|\n",
    "|s.discard(x)                       |\t           |\tremoves x from set s if present|\n",
    "|s.pop()                            | \t           |\tremove and return an arbitrary element from s|\n",
    "|s.clear()            \t            |  \t           |remove all elements from set s|\n",
    "\n",
    "Sadly, Eve's turtle passed away last week. Let's update her pet list accordingly."
   ]
  },
  {
   "cell_type": "code",
   "execution_count": 67,
   "metadata": {},
   "outputs": [
    {
     "name": "stdout",
     "output_type": "stream",
     "text": [
      "{'Rabbit', 'Goldfish'}\n"
     ]
    }
   ],
   "source": [
    "# Define the sets\n",
    "Nina = set([\"Cat\", \"Dog\", \"Rabbit\", \"Donkey\", \"Parrot\", \"Goldfish\"])\n",
    "Mary = set([\"Dog\", \"Chinchilla\", \"Horse\", \"Chicken\"])\n",
    "Eve = set([\"Rabbit\", \"Turtle\", \"Goldfish\"])\n",
    "\n",
    "# Remove \"Turtle\" from Eve's set\n",
    "Eve.discard(\"Turtle\")\n",
    "\n",
    "# Print the updated set\n",
    "print(Eve)  # Output should be {'Rabbit', 'Goldfish'}\n",
    "\n"
   ]
  },
  {
   "cell_type": "markdown",
   "metadata": {},
   "source": [
    "This time around, Nina promised to take care of Mary's pets while she's away. But she also wants to make sure her pets are well taken care of. As Nina is already spending a considerable amount of time taking care of her own pets, adding a few more won't make that much of a difference. Nina does want to update her list while Mary is away. "
   ]
  },
  {
   "cell_type": "code",
   "execution_count": 70,
   "metadata": {},
   "outputs": [
    {
     "name": "stdout",
     "output_type": "stream",
     "text": [
      "{'Dog', 'Cat', 'Chinchilla', 'Rabbit', 'Goldfish', 'Chicken', 'Parrot', 'Donkey', 'Horse'}\n"
     ]
    }
   ],
   "source": [
    "# Add Mary's pets to Nina's set\n",
    "Nina.update(Mary)\n",
    "\n",
    "# Print the updated set\n",
    "print(Nina)  # Output should be {'Chicken', 'Horse', 'Chinchilla', 'Parrot', 'Rabbit', 'Donkey', 'Dog', 'Cat', 'Goldfish'}\n",
    "\n"
   ]
  },
  {
   "cell_type": "markdown",
   "metadata": {},
   "source": [
    "Mary, on the other hand, wants to clear her list altogether while away:"
   ]
  },
  {
   "cell_type": "code",
   "execution_count": 71,
   "metadata": {},
   "outputs": [
    {
     "data": {
      "text/plain": [
       "set()"
      ]
     },
     "execution_count": 71,
     "metadata": {},
     "output_type": "execute_result"
    }
   ],
   "source": [
    "# Clear all elements from Mary's set\n",
    "Mary.clear()\n",
    "\n",
    "Mary  # set()"
   ]
  },
  {
   "cell_type": "markdown",
   "metadata": {},
   "source": [
    "Look at how many species Nina is taking care of right now."
   ]
  },
  {
   "cell_type": "code",
   "execution_count": 73,
   "metadata": {},
   "outputs": [
    {
     "name": "stdout",
     "output_type": "stream",
     "text": [
      "Eve's updated set: {'Rabbit', 'Goldfish'}\n",
      "Nina's updated set: {'Dog', 'Cat', 'Chinchilla', 'Rabbit', 'Goldfish', 'Chicken', 'Parrot', 'Donkey', 'Horse'}\n",
      "Mary's updated set: set()\n",
      "n_species_Nina: 9\n"
     ]
    }
   ],
   "source": [
    "# Assign the number of species Nina is taking care of to n_species_Nina\n",
    "n_species_Nina = len(Nina)\n",
    "\n",
    "# Print the updated sets\n",
    "print(\"Eve's updated set:\", Eve)  # Output should be {'Rabbit', 'Goldfish'}\n",
    "print(\"Nina's updated set:\", Nina)  # Output should be {'Chicken', 'Horse', 'Chinchilla', 'Parrot', 'Rabbit', 'Donkey', 'Dog', 'Cat', 'Goldfish'}\n",
    "print(\"Mary's updated set:\", Mary)  # Output should be set()\n",
    "\n",
    "# Print the number of species Nina is taking care of\n",
    "print(\"n_species_Nina:\", n_species_Nina)  # Output should be 9\n",
    "\n"
   ]
  },
  {
   "cell_type": "markdown",
   "metadata": {},
   "source": [
    "Taking care of this many pets is weighing heavily on Nina. She remembered Eve had a smaller collection of pets lately, and that's why she asks Eve to take care of the common species. This way, the extra pets are not a huge effort on Eve's behalf. Let's update Nina's pet collection."
   ]
  },
  {
   "cell_type": "code",
   "execution_count": 74,
   "metadata": {},
   "outputs": [
    {
     "name": "stdout",
     "output_type": "stream",
     "text": [
      "Eve's updated set: {'Rabbit', 'Goldfish'}\n",
      "Nina's updated set: {'Dog', 'Cat', 'Chinchilla', 'Chicken', 'Parrot', 'Donkey', 'Horse'}\n",
      "Mary's updated set: set()\n",
      "n_species_Nina: 7\n"
     ]
    }
   ],
   "source": [
    "# Define the sets\n",
    "Nina = set([\"Cat\", \"Dog\", \"Rabbit\", \"Donkey\", \"Parrot\", \"Goldfish\"])\n",
    "Mary = set([\"Dog\", \"Chinchilla\", \"Horse\", \"Chicken\"])\n",
    "Eve = set([\"Rabbit\", \"Turtle\", \"Goldfish\"])\n",
    "\n",
    "# Remove \"Turtle\" from Eve's set\n",
    "Eve.discard(\"Turtle\")\n",
    "\n",
    "# Add Mary's pets to Nina's set\n",
    "Nina.update(Mary)\n",
    "\n",
    "# Clear all elements from Mary's set\n",
    "Mary.clear()\n",
    "\n",
    "# Identify common pets between Nina and Eve\n",
    "common_pets = Nina.intersection(Eve)\n",
    "\n",
    "# Remove these common pets from Nina's collection\n",
    "Nina.difference_update(common_pets)\n",
    "\n",
    "# Print the updated sets\n",
    "print(\"Eve's updated set:\", Eve)  # Output should be {'Rabbit', 'Goldfish'}\n",
    "print(\"Nina's updated set:\", Nina)  # Output should be {'Chicken', 'Horse', 'Chinchilla', 'Parrot', 'Donkey', 'Dog', 'Cat'}\n",
    "print(\"Mary's updated set:\", Mary)  # Output should be set()\n",
    "\n",
    "# Print the number of species Nina is taking care of\n",
    "n_species_Nina = len(Nina)\n",
    "print(\"n_species_Nina:\", n_species_Nina)  # Output should be 7\n"
   ]
  },
  {
   "cell_type": "markdown",
   "metadata": {},
   "source": [
    "Taking care of 7 species is something Nina feels comfortable doing!"
   ]
  },
  {
   "cell_type": "markdown",
   "metadata": {},
   "source": [
    "## Writing Down the Elements in a Set\n",
    "\n",
    "\n",
    "Mary dropped off her pets at Nina's house and finally made her way to the highway. Awesome, her vacation has begun!\n",
    "She's approaching an exit. At the end of this particular highway exit, cars can either turn left (L), go straight (S) or turn right (R). It's pretty busy and there are two cars driving close to her. What you'll do now is create several sets. You won't be using Python here, it's sufficient to write the sets down on paper. A good notion of sets and subsets will help you calculate probabilities in the next lab!\n",
    "\n",
    "Note: each set of action is what _all three cars_ are doing at any given time\n",
    "\n",
    "a. Create a set $A$ of all possible outcomes assuming that all three cars drive in the same direction.\n",
    "           \n",
    "b. Create a set $B$ of all possible outcomes assuming that all three cars drive in a different direction.\n",
    "             \n",
    "c. Create a set $C$ of all possible outcomes assuming that exactly 2 cars turn right.\n",
    "            \n",
    "d. Create a set $D$ of all possible outcomes assuming that exactly 2 cars drive in the same direction.\n",
    "\n",
    "                          \n",
    "e. Write down the interpretation and give all possible outcomes for the sets denoted by:\n",
    " - I. $D'$ \n",
    " - II. $C \\cap D$, \n",
    " - III. $C \\cup D$. "
   ]
  },
  {
   "cell_type": "markdown",
   "metadata": {},
   "source": [
    "Assumptions:\n",
    "There are three cars, and each car can either turn left (L), go straight (S), or turn right (R).\n",
    "a. Set AAA - All possible outcomes assuming all three cars drive in the same direction:\n",
    "A={(L,L,L),(S,S,S),(R,R,R)}A = \\{ (L, L, L), (S, S, S), (R, R, R) \\}A={(L,L,L),(S,S,S),(R,R,R)}\n",
    "\n",
    "\n",
    "b. Set BBB - All possible outcomes assuming all three cars drive in different directions:\n",
    "B={(L,S,R),(L,R,S),(S,L,R),(S,R,L),(R,L,S),(R,S,L)}B = \\{ (L, S, R), (L, R, S), (S, L, R), (S, R, L), (R, L, S), (R, S, L) \\}B={(L,S,R),(L,R,S),(S,L,R),(S,R,L),(R,L,S),(R,S,L)}\n",
    "\n",
    "\n",
    "c. Set CCC - All possible outcomes assuming exactly 2 cars turn right:\n",
    "C={(R,R,L),(R,R,S),(R,L,R),(R,S,R),(L,R,R),(S,R,R)}C = \\{ (R, R, L), (R, R, S), (R, L, R), (R, S, R), (L, R, R), (S, R, R) \\}C={(R,R,L),(R,R,S),(R,L,R),(R,S,R),(L,R,R),(S,R,R)}\n",
    "\n",
    "\n",
    "d. Set DDD - All possible outcomes assuming exactly 2 cars drive in the same direction:\n",
    "D={(L,L,S),(L,L,R),(L,S,L),(L,R,L),(S,S,L),(S,S,R),(S,L,S),(S,R,S),(R,R,L),(R,R,S),(R,L,R),(R,S,R)}D = \\{ (L, L, S), (L, L, R), (L, S, L), (L, R, L), (S, S, L), (S, S, R), (S, L, S), (S, R, S), (R, R, L), (R, R, S), (R, L, R), (R, S, R) \\}D={(L,L,S),(L,L,R),(L,S,L),(L,R,L),(S,S,L),(S,S,R),(S,L,S),(S,R,S),(R,R,L),(R,R,S),(R,L,R),(R,S,R)}\n",
    "\n",
    "\n",
    "e. Interpretations and possible outcomes:\n",
    "\n",
    "I. D′D'D′ - The complement of set DDD:\n",
    "D′D'D′ contains all outcomes that are not in DDD. These outcomes are where all cars drive in different directions or all drive in the same direction.\n",
    "D′=B∪A={(L,S,R),(L,R,S),(S,L,R),(S,R,L),(R,L,S),(R,S,L),(L,L,L),(S,S,S),(R,R,R)}D' = B \\cup A = \\{ (L, S, R), (L, R, S), (S, L, R), (S, R, L), (R, L, S), (R, S, L), (L, L, L), (S, S, S), (R, R, R) \\}D′=B∪A={(L,S,R),(L,R,S),(S,L,R),(S,R,L),(R,L,S),(R,S,L),(L,L,L),(S,S,S),(R,R,R)}\n",
    "\n",
    "\n",
    "II. C∩DC \\cap DC∩D - The intersection of sets CCC and DDD:\n",
    "C∩DC \\cap DC∩D contains outcomes that are in both CCC and DDD. These outcomes are where exactly 2 cars turn right and the third car goes in a different direction.\n",
    "C∩D={(R,R,L),(R,R,S),(R,L,R),(R,S,R),(L,R,R),(S,R,R)}C \\cap D = \\{ (R, R, L), (R, R, S), (R, L, R), (R, S, R), (L, R, R), (S, R, R) \\}C∩D={(R,R,L),(R,R,S),(R,L,R),(R,S,R),(L,R,R),(S,R,R)}\n",
    "\n",
    "\n",
    "III. C∪DC \\cup DC∪D - The union of sets CCC and DDD:\n",
    "C∪DC \\cup DC∪D contains all outcomes that are in either CCC or DDD or both.\n",
    "C∪D={(R,R,L),(R,R,S),(R,L,R),(R,S,R),(L,R,R),(S,R,R),(L,L,S),(L,L,R),(L,S,L),(L,R,L),(S,S,L),(S,S,R),(S,L,S),(S,R,S),(R,R,L),(R,R,S),(R,L,R),(R,S,R)}C \\cup D = \\{ (R, R, L), (R, R, S), (R, L, R), (R, S, R), (L, R, R), (S, R, R), (L, L, S), (L, L, R), (L, S, L), (L, R, L), (S, S, L), (S, S, R), (S, L, S), (S, R, S), (R, R, L), (R, R, S), (R, L, R), (R, S, R) \\}C∪D={(R,R,L),(R,R,S),(R,L,R),(R,S,R),(L,R,R),(S,R,R),(L,L,S),(L,L,R),(L,S,L),(L,R,L),(S,S,L),(S,S,R),(S,L,S),(S,R,S),(R,R,L),(R,R,S),(R,L,R),(R,S,R)}\n",
    "\n",
    "\n",
    "Summary:\n",
    "•\tSet AAA represents all cars driving in the same direction.\n",
    "•\tSet BBB represents all cars driving in different directions.\n",
    "•\tSet CCC represents exactly 2 cars turning right.\n",
    "•\tSet DDD represents exactly 2 cars driving in the same direction.\n",
    "And the interpretations:\n",
    "•\tD′D'D′ is the set of outcomes where cars are either all driving in different directions or all driving in the same direction.\n",
    "•\tC∩DC \\cap DC∩D is the set of outcomes where exactly 2 cars turn right and the other car goes in a different direction.\n",
    "•\tC∪DC \\cup DC∪D is the set of outcomes where either exactly 2 cars turn right or exactly 2 cars drive in the same direction.\n"
   ]
  },
  {
   "cell_type": "markdown",
   "metadata": {},
   "source": [
    "## Optional Exercise: European Countries\n",
    "\n",
    "Use set operations to determine which European countries are not in the European Union. Use the `Country` column. You just might have to clean the data first with pandas.\n",
    "\n",
    "Note that this data is from 2018, so EU membership may have changed."
   ]
  },
  {
   "cell_type": "code",
   "execution_count": null,
   "metadata": {},
   "outputs": [],
   "source": [
    "import pandas as pd\n",
    "import matplotlib.pyplot as plt\n",
    "import numpy as np\n",
    "import seaborn as sns\n",
    "import scipy as sc\n",
    "\n",
    "# Load Europe and EU data from Excel sheets\n",
    "europe = pd.read_excel('Europe_and_EU.xlsx', sheet_name='Europe')\n",
    "eu = pd.read_excel('Europe_and_EU.xlsx', sheet_name='EU')\n",
    "\n",
    "# Remove any whitespace from country names\n",
    "europe['Country'] = europe['Country'].str.strip()\n",
    "eu['Country'] = eu['Country'].str.strip()\n",
    "\n",
    "# Display the first few rows of each dataframe to verify\n",
    "print(\"Europe dataframe:\")\n",
    "print(europe.head())\n",
    "\n",
    "print(\"\\nEU dataframe:\")\n",
    "print(eu.head())\n",
    "\n",
    "# Create sets for European countries and EU member countries\n",
    "european_countries = set(europe['Country'])\n",
    "eu_countries = set(eu['Country'])\n",
    "\n",
    "# Countries that are in Europe but not in the EU\n",
    "non_eu_european_countries = european_countries - eu_countries\n",
    "\n",
    "# Print the results\n",
    "print(\"\\nEuropean countries not in the EU:\")\n",
    "print(non_eu_european_countries)\n",
    "\n",
    "# Optionally, you can visualize the results using seaborn\n",
    "data = {\n",
    "    'Status': ['EU Countries', 'Non-EU Countries'],\n",
    "    'Count': [len(eu_countries), len(non_eu_european_countries)]\n",
    "}\n",
    "\n",
    "df = pd.DataFrame(data)\n",
    "\n",
    "# Create a bar plot\n",
    "sns.set(style=\"whitegrid\")\n",
    "plt.figure(figsize=(10, 6))\n",
    "sns.barplot(x='Status', y='Count', data=df, palette='viridis')\n",
    "plt.title('Distribution of European Countries')\n",
    "plt.show()\n",
    "\n",
    "\n",
    "\n",
    "\n",
    "\n",
    "\n"
   ]
  },
  {
   "cell_type": "code",
   "execution_count": 4,
   "metadata": {},
   "outputs": [
    {
     "data": {
      "text/plain": [
       "'c:\\\\Users\\\\Admin\\\\Desktop\\\\Phase 2'"
      ]
     },
     "execution_count": 4,
     "metadata": {},
     "output_type": "execute_result"
    }
   ],
   "source": [
    "pwd\n"
   ]
  },
  {
   "cell_type": "markdown",
   "metadata": {},
   "source": [
    "Preview data:"
   ]
  },
  {
   "cell_type": "code",
   "execution_count": null,
   "metadata": {},
   "outputs": [],
   "source": [
    "europe.head(3)"
   ]
  },
  {
   "cell_type": "code",
   "execution_count": null,
   "metadata": {},
   "outputs": [],
   "source": [
    "eu.head(3)"
   ]
  },
  {
   "cell_type": "markdown",
   "metadata": {},
   "source": [
    "Your code comes here:"
   ]
  },
  {
   "cell_type": "code",
   "execution_count": null,
   "metadata": {},
   "outputs": [],
   "source": [
    "# Check to confirm that the EU countries are a subset of countries in Europe"
   ]
  },
  {
   "cell_type": "code",
   "execution_count": null,
   "metadata": {},
   "outputs": [],
   "source": [
    "# Find the set of countries that are in Europe but not the EU"
   ]
  },
  {
   "cell_type": "markdown",
   "metadata": {},
   "source": [
    "## Summary"
   ]
  },
  {
   "cell_type": "markdown",
   "metadata": {},
   "source": [
    "In this lab, you practiced your knowledge on sets, such as common set operations, the use of Venn Diagrams, the inclusion exclusion principle, and how to use sets in Python! "
   ]
  }
 ],
 "metadata": {
  "kernelspec": {
   "display_name": "Python 3 (ipykernel)",
   "language": "python",
   "name": "python3"
  },
  "language_info": {
   "codemirror_mode": {
    "name": "ipython",
    "version": 3
   },
   "file_extension": ".py",
   "mimetype": "text/x-python",
   "name": "python",
   "nbconvert_exporter": "python",
   "pygments_lexer": "ipython3",
   "version": "3.12.2"
  },
  "toc": {
   "base_numbering": 1,
   "nav_menu": {},
   "number_sections": true,
   "sideBar": true,
   "skip_h1_title": false,
   "title_cell": "Table of Contents",
   "title_sidebar": "Contents",
   "toc_cell": false,
   "toc_position": {},
   "toc_section_display": true,
   "toc_window_display": false
  },
  "vscode": {
   "interpreter": {
    "hash": "aee8b7b246df8f9039afb4144a1f6fd8d2ca17a180786b69acc140d282b71a49"
   }
  }
 },
 "nbformat": 4,
 "nbformat_minor": 2
}
